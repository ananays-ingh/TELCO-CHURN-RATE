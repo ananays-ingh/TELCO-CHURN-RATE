{
 "cells": [
  {
   "cell_type": "code",
   "execution_count": 2,
   "id": "e6512012",
   "metadata": {},
   "outputs": [],
   "source": [
    "import pandas as pd\n",
    "import numpy as np\n",
    "import seaborn as sns\n",
    "import matplotlib.pyplot as plt\n",
    "\n",
    "from sklearn.model_selection import train_test_split"
   ]
  },
  {
   "cell_type": "code",
   "execution_count": 3,
   "id": "3b90e41e",
   "metadata": {},
   "outputs": [],
   "source": [
    "df = pd.read_csv(\"/Users/mr.engineer/Desktop/Code/DSPROJECT/CUSTOMER_CHURN/DATA/Telco_customer_churn.csv\")\n",
    "df.drop(columns=['customerID'],inplace=True)"
   ]
  },
  {
   "cell_type": "code",
   "execution_count": 4,
   "id": "2fd990cf",
   "metadata": {},
   "outputs": [],
   "source": [
    "df['TotalCharges'] = pd.to_numeric(df['TotalCharges'],errors= 'coerce')\n",
    "df['TotalCharges'] = df['TotalCharges'].fillna(0)"
   ]
  },
  {
   "cell_type": "code",
   "execution_count": 5,
   "id": "0977176d",
   "metadata": {},
   "outputs": [
    {
     "data": {
      "text/plain": [
       "Index(['gender', 'SeniorCitizen', 'Partner', 'Dependents', 'tenure',\n",
       "       'PhoneService', 'MultipleLines', 'InternetService', 'OnlineSecurity',\n",
       "       'OnlineBackup', 'DeviceProtection', 'TechSupport', 'StreamingTV',\n",
       "       'StreamingMovies', 'Contract', 'PaperlessBilling', 'PaymentMethod',\n",
       "       'MonthlyCharges', 'TotalCharges', 'Churn'],\n",
       "      dtype='object')"
      ]
     },
     "execution_count": 5,
     "metadata": {},
     "output_type": "execute_result"
    }
   ],
   "source": [
    "df.columns"
   ]
  },
  {
   "cell_type": "code",
   "execution_count": 6,
   "id": "fa7ae667",
   "metadata": {},
   "outputs": [],
   "source": [
    "binary = ['Partner', 'Dependents', 'PhoneService', 'PaperlessBilling','Churn']\n",
    "df[binary] = df[binary].apply(lambda x:x.map(\n",
    "    {\n",
    "        'Yes': 1,\n",
    "        'No': 0\n",
    "    }\n",
    "))\n",
    "df[\"gender\"] = df[\"gender\"].map(\n",
    "    {\n",
    "    'Male': 1,\n",
    "    'Female': 0\n",
    "    }\n",
    ")\n",
    "multi_cat_cols = ['MultipleLines', 'InternetService', 'OnlineSecurity', 'OnlineBackup',\n",
    "                  'DeviceProtection', 'TechSupport', 'StreamingTV', 'StreamingMovies',\n",
    "                  'Contract', 'PaymentMethod']\n",
    "\n",
    "df= pd.get_dummies(df,columns = multi_cat_cols,drop_first=True)\n"
   ]
  },
  {
   "cell_type": "code",
   "execution_count": 7,
   "id": "21c4034a",
   "metadata": {},
   "outputs": [],
   "source": [
    "def fxn(tenure):\n",
    "    if tenure<=12:\n",
    "        return \"0-1\"\n",
    "    elif tenure>12 and tenure<=24:\n",
    "        return \"1-2\"\n",
    "    elif tenure >24 and tenure <=48:\n",
    "        return \"2-4\"\n",
    "    elif tenure >48 and tenure <=60:\n",
    "        return \"4-6\"\n",
    "    else:\n",
    "        return \"6+\"\n",
    "df['tenure_grp'] = df['tenure'].apply(fxn)\n",
    "df = pd.get_dummies(df,columns=['tenure_grp'],drop_first=True)"
   ]
  },
  {
   "cell_type": "code",
   "execution_count": 8,
   "id": "c1322745",
   "metadata": {},
   "outputs": [
    {
     "name": "stdout",
     "output_type": "stream",
     "text": [
      "(7043, 35)\n"
     ]
    },
    {
     "data": {
      "text/plain": [
       "Index(['gender', 'SeniorCitizen', 'Partner', 'Dependents', 'tenure',\n",
       "       'PhoneService', 'PaperlessBilling', 'MonthlyCharges', 'TotalCharges',\n",
       "       'Churn', 'MultipleLines_No phone service', 'MultipleLines_Yes',\n",
       "       'InternetService_Fiber optic', 'InternetService_No',\n",
       "       'OnlineSecurity_No internet service', 'OnlineSecurity_Yes',\n",
       "       'OnlineBackup_No internet service', 'OnlineBackup_Yes',\n",
       "       'DeviceProtection_No internet service', 'DeviceProtection_Yes',\n",
       "       'TechSupport_No internet service', 'TechSupport_Yes',\n",
       "       'StreamingTV_No internet service', 'StreamingTV_Yes',\n",
       "       'StreamingMovies_No internet service', 'StreamingMovies_Yes',\n",
       "       'Contract_One year', 'Contract_Two year',\n",
       "       'PaymentMethod_Credit card (automatic)',\n",
       "       'PaymentMethod_Electronic check', 'PaymentMethod_Mailed check',\n",
       "       'tenure_grp_1-2', 'tenure_grp_2-4', 'tenure_grp_4-6', 'tenure_grp_6+'],\n",
       "      dtype='object')"
      ]
     },
     "execution_count": 8,
     "metadata": {},
     "output_type": "execute_result"
    }
   ],
   "source": [
    "print(df.shape)\n",
    "df.columns\n"
   ]
  },
  {
   "cell_type": "code",
   "execution_count": 10,
   "id": "f31e833e",
   "metadata": {},
   "outputs": [],
   "source": [
    "df.to_csv(\"/Users/mr.engineer/Desktop/Code/DSPROJECT/CUSTOMER_CHURN/DATA/PROCESSED/Processed_churn_data.csv\",index=False)"
   ]
  }
 ],
 "metadata": {
  "kernelspec": {
   "display_name": ".venv",
   "language": "python",
   "name": "python3"
  },
  "language_info": {
   "codemirror_mode": {
    "name": "ipython",
    "version": 3
   },
   "file_extension": ".py",
   "mimetype": "text/x-python",
   "name": "python",
   "nbconvert_exporter": "python",
   "pygments_lexer": "ipython3",
   "version": "3.9.6"
  }
 },
 "nbformat": 4,
 "nbformat_minor": 5
}
